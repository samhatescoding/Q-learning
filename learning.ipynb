{
 "cells": [
  {
   "cell_type": "code",
   "execution_count": 1,
   "metadata": {},
   "outputs": [],
   "source": [
    "import numpy as np\n",
    "from maze import Maze"
   ]
  },
  {
   "cell_type": "markdown",
   "metadata": {},
   "source": [
    "We can define a maze by specifying its rows, colums, blocked cells, goal states and failure states:"
   ]
  },
  {
   "cell_type": "code",
   "execution_count": 2,
   "metadata": {},
   "outputs": [
    {
     "name": "stdout",
     "output_type": "stream",
     "text": [
      "Maze Layout:\n",
      "  -1   -1   -1    G \n",
      "  -1    X   -1    F \n",
      "  -1   -1   -1   -1 \n",
      "\n"
     ]
    }
   ],
   "source": [
    "# Method 1: define with rows, cols, blocked cells, and terminal (goal and failure) states\n",
    "maze = Maze(\n",
    "    rows = 3,\n",
    "    cols = 4,\n",
    "    blocked = [(1, 1)],\n",
    "    goals = [(0, 3)],\n",
    "    failures = [(1, 3)]\n",
    ")\n",
    "maze.display()"
   ]
  },
  {
   "cell_type": "markdown",
   "metadata": {},
   "source": [
    "Alternatively, we can define a maze by specifying a matrix (2D NumPy array):"
   ]
  },
  {
   "cell_type": "code",
   "execution_count": 3,
   "metadata": {},
   "outputs": [
    {
     "name": "stdout",
     "output_type": "stream",
     "text": [
      "Maze defined by rewards grid:\n",
      "Maze Layout:\n",
      "  -3   -2   -1    G \n",
      "  -4    X   -2    F \n",
      "  -5   -4   -3   -2 \n",
      "\n"
     ]
    }
   ],
   "source": [
    "# Method 2: Define with a rewards grid\n",
    "rewards = np.array([\n",
    "    [-3,  -2,  -1, 'G'],\n",
    "    [-4, 'X',  -2, 'F'],\n",
    "    [-5,  -4,  -3,  -2]\n",
    "])\n",
    "\n",
    "maze = Maze(rewards = rewards)\n",
    "print(\"Maze defined by rewards grid:\")\n",
    "maze.display()"
   ]
  },
  {
   "cell_type": "code",
   "execution_count": 4,
   "metadata": {},
   "outputs": [],
   "source": [
    "from agent import Agent"
   ]
  },
  {
   "cell_type": "code",
   "execution_count": 5,
   "metadata": {},
   "outputs": [
    {
     "name": "stdout",
     "output_type": "stream",
     "text": [
      "\n",
      "Policy Table at Episode 0:\n",
      "  ↑    ↑    ↑    G  \n",
      "  ↑    X    ↑    G  \n",
      "  ↑    ↑    ↑    ↑  \n",
      "\n",
      "Policy Table at Episode 33:\n",
      "  →    →    →    G  \n",
      "  ↑    X    ↑    G  \n",
      "  →    →    ↑    ←  \n",
      "\n",
      "Policy Table at Episode 66:\n",
      "  →    →    →    G  \n",
      "  ↑    X    ↑    G  \n",
      "  ↑    →    ↑    ←  \n",
      "\n",
      "Policy Table at Episode 99:\n",
      "  →    →    →    G  \n",
      "  ↑    X    ↑    G  \n",
      "  ↑    →    ↑    ←  \n"
     ]
    }
   ],
   "source": [
    "# Initialize the agent with the maze environment and hyperparameters\n",
    "agent = Agent(maze, 0.5, 0.5, 0.5)\n",
    "\n",
    "# Train the agent using Q-learning for a specified number of episodes\n",
    "agent.q_learning(episodes = 100)"
   ]
  }
 ],
 "metadata": {
  "kernelspec": {
   "display_name": "base",
   "language": "python",
   "name": "python3"
  },
  "language_info": {
   "codemirror_mode": {
    "name": "ipython",
    "version": 3
   },
   "file_extension": ".py",
   "mimetype": "text/x-python",
   "name": "python",
   "nbconvert_exporter": "python",
   "pygments_lexer": "ipython3",
   "version": "3.9.15"
  }
 },
 "nbformat": 4,
 "nbformat_minor": 2
}
